{
  "nbformat": 4,
  "nbformat_minor": 0,
  "metadata": {
    "colab": {
      "name": "CloudGenix-demo-flowsankey.ipynb",
      "provenance": [],
      "collapsed_sections": []
    },
    "kernelspec": {
      "name": "python3",
      "display_name": "Python 3"
    }
  },
  "cells": [
    {
      "cell_type": "code",
      "metadata": {
        "id": "t1PxKC8eaE-V",
        "colab_type": "code",
        "colab": {}
      },
      "source": [
        "# Install cloudgenix SDK in Runtime (may need restart - will prompt). Can add add'l lines for any other non-default modules you need (pandas, etc)\n",
        "!pip install --upgrade cgx_notebooks\n"
      ],
      "execution_count": 0,
      "outputs": []
    },
    {
      "cell_type": "code",
      "metadata": {
        "id": "eUER73yPaJW0",
        "colab_type": "code",
        "colab": {}
      },
      "source": [
        "# Import and basic setup.\n",
        "from cgx_notebooks.aaron import *\n",
        "\n",
        "# login and start SDK\n",
        "sdk = instantiate()\n",
        "# ask for auth_token\n",
        "ask_for_auth_token_and_login(sdk)\n",
        "# build caches\n",
        "idname, all_id2n, sites_n2id, elements_n2id, apps_n2id = create_api_maps_cache(sdk)\n",
        "# set apps_list for app list collection\n",
        "apps_list = []\n",
        "\n"
      ],
      "execution_count": 0,
      "outputs": []
    },
    {
      "cell_type": "code",
      "metadata": {
        "colab_type": "code",
        "id": "Ji_kWoJpJm_t",
        "cellView": "both",
        "colab": {}
      },
      "source": [
        "# Get Site from form Based on name \n",
        "#@title Enter or change Site Name\n",
        "site_name = \"Branch1\" #@param {type:\"string\"}\n",
        "site_id = select_site(site_name, sites_n2id)"
      ],
      "execution_count": 0,
      "outputs": []
    },
    {
      "cell_type": "code",
      "metadata": {
        "id": "UxTIf5M4MrDF",
        "colab_type": "code",
        "colab": {}
      },
      "source": [
        "# Get element from form Based on name \n",
        "#@title Enter or change Element Name\n",
        "element_name = \"BR1-1\" #@param {type:\"string\"}\n",
        "element_id = select_element(element_name, elements_n2id)"
      ],
      "execution_count": 0,
      "outputs": []
    },
    {
      "cell_type": "code",
      "metadata": {
        "id": "6aCUHVXcNTxj",
        "colab_type": "code",
        "cellView": "both",
        "colab": {}
      },
      "source": [
        "# Get app from form Based on name. You can run this multiple times to select multiple apps.\n",
        "# Set apps_list = [] to reset list.\n",
        "#@title Enter App Name\n",
        "app_name = \"salesforce\" #@param {type:\"string\"}\n",
        "select_app(app_name, apps_list, apps_n2id)"
      ],
      "execution_count": 0,
      "outputs": []
    },
    {
      "cell_type": "code",
      "metadata": {
        "id": "4ZL21ccuMZYT",
        "colab_type": "code",
        "cellView": "both",
        "colab": {}
      },
      "source": [
        "#@title Select Timeframe\n",
        "now_or_specific = \"Now\" #@param [\"Now\", \"Enter Specific Time(UTC)\"]\n",
        "enter_specific_date = \"2020-03-03\" #@param {type:\"date\"}\n",
        "specific_hour = 12 #@param {type:\"slider\", min:0, max:24, step:1}\n",
        "specific_minute = 0 #@param {type:\"slider\", min:0, max:59, step:1}\n",
        "\n",
        "# Get time window\n",
        "import datetime\n",
        "\n",
        "if now_or_specific == \"Enter Specific Time(UTC)\":\n",
        "  now = datetime.datetime.strptime(f\"{enter_specific_date}T{specific_hour}:{specific_minute}:00.000Z\",\n",
        "                                   \"%Y-%m-%dT%H:%M:%S.%fZ\")\n",
        "else:\n",
        "  now = datetime.datetime.utcnow()\n",
        "\n",
        "# compute 1h delta\n",
        "end_time = now.strftime(\"%Y-%m-%dT%H:%M:%S.%fZ\")\n",
        "start = now - datetime.timedelta(hours=1)\n",
        "start_time = start.strftime(\"%Y-%m-%dT%H:%M:%S.%fZ\")\n",
        "\n",
        "# start_time = \"2020-02-26T19:52:45.721Z\"\n",
        "# end_time = \"2020-02-26T20:52:45.721Z\"\n",
        "print(f\"Start Time: {start_time}\\nEnd Time: {end_time}\")"
      ],
      "execution_count": 0,
      "outputs": []
    },
    {
      "cell_type": "code",
      "metadata": {
        "colab_type": "code",
        "outputId": "0b2e3014-5a93-4ccd-daf2-b5142b60ac11",
        "id": "xLvCqWfZgUUc",
        "colab": {
          "base_uri": "https://localhost:8080/",
          "height": 1700
        }
      },
      "source": [
        "# Flow relationship graph.\n",
        "\n",
        "# get dataframe (can limit - example, source_ips=\"10.1.100.19/32\")\n",
        "df = query_flows_to_df(sdk, all_id2n, start_time, end_time, site_id, app_id_list=apps_list, destination_ips=None,\n",
        "                       destination_ports=None, protocol=None, source_ips=None, source_ports=None)\n",
        "\n",
        "# create chart\n",
        "height = 1700\n",
        "width = 1500\n",
        "# create sankey. \n",
        "# cat_cols = left, middle, right data values. value_cols = addititve values. 'priority_class', 'traffic_type'\n",
        "#'row_count' is specialmeans use # of matching rows, but can do any column - say retransmit_pkts_c2s, or 'unknown_domain'. \n",
        "fig, fig_df = generate_flow_app_sankey(df, cat_cols=['source_ip', 'app_id', 'destination_ip'], value_cols='row_count', title=f'Flow relations for site {site_name}',height=height, width=width, thickness=20, \n",
        "                                       pad=10, line=None, return_df=True)\n",
        "\n",
        "# set the display area and render the chart\n",
        "display(Javascript(data=\"google.colab.output.setIframeHeight(0, true, {{maxHeight: {0}}})\".format(height)))\n",
        "fig.show()\n"
      ],
      "execution_count": 46,
      "outputs": [
        {
          "output_type": "display_data",
          "data": {
            "application/javascript": [
              "google.colab.output.setIframeHeight(0, true, {maxHeight: 1700})"
            ],
            "text/plain": [
              "<IPython.core.display.Javascript object>"
            ]
          },
          "metadata": {
            "tags": []
          }
        },
        {
          "output_type": "display_data",
          "data": {
            "text/html": [
              "<html>\n",
              "<head><meta charset=\"utf-8\" /></head>\n",
              "<body>\n",
              "    <div>\n",
              "            <script src=\"https://cdnjs.cloudflare.com/ajax/libs/mathjax/2.7.5/MathJax.js?config=TeX-AMS-MML_SVG\"></script><script type=\"text/javascript\">if (window.MathJax) {MathJax.Hub.Config({SVG: {font: \"STIX-Web\"}});}</script>\n",
              "                <script type=\"text/javascript\">window.PlotlyConfig = {MathJaxConfig: 'local'};</script>\n",
              "        <script src=\"https://cdn.plot.ly/plotly-latest.min.js\"></script>    \n",
              "            <div id=\"d6a63c1c-63c3-43d0-ad7c-d556c11951bb\" class=\"plotly-graph-div\" style=\"height:1700px; width:1500px;\"></div>\n",
              "            <script type=\"text/javascript\">\n",
              "                \n",
              "                    window.PLOTLYENV=window.PLOTLYENV || {};\n",
              "                    \n",
              "                if (document.getElementById(\"d6a63c1c-63c3-43d0-ad7c-d556c11951bb\")) {\n",
              "                    Plotly.newPlot(\n",
              "                        'd6a63c1c-63c3-43d0-ad7c-d556c11951bb',\n",
              "                        [{\"arrangement\": \"perpendicular\", \"link\": {\"source\": [5, 4, 1, 8, 9, 7, 2, 3, 6, 0, 10, 10, 10, 10, 10, 10, 10, 10, 10, 10, 10, 10, 10, 10, 10, 10, 10, 10, 10, 10, 10, 10, 10, 10, 10, 10, 10, 10, 10, 10, 10, 10, 10, 10, 10, 10, 10, 10, 10, 10, 10, 10, 10, 10, 10, 10, 10, 10, 10, 10, 10, 10, 10, 10, 10, 10, 10, 10, 10, 10, 10, 10, 10, 10, 10, 10, 10, 10, 10, 10, 10, 10, 10, 10, 10, 10, 10, 10], \"target\": [10, 10, 10, 10, 10, 10, 10, 10, 10, 10, 47, 64, 46, 57, 54, 72, 23, 33, 42, 30, 81, 43, 56, 79, 20, 48, 18, 37, 32, 58, 63, 59, 84, 41, 53, 87, 51, 29, 21, 36, 61, 74, 39, 70, 45, 26, 50, 52, 83, 38, 49, 86, 25, 31, 11, 13, 55, 75, 44, 12, 73, 78, 40, 19, 71, 27, 22, 34, 35, 65, 24, 62, 88, 60, 14, 85, 67, 16, 82, 68, 15, 80, 69, 76, 17, 66, 77, 28], \"value\": [42, 66, 59, 54, 64, 60, 63, 71, 62, 52, 12, 50, 2, 5, 5, 2, 1, 2, 2, 1, 1, 5, 1, 1, 1, 2, 2, 1, 3, 2, 4, 2, 1, 1, 1, 1, 1, 1, 1, 4, 3, 1, 1, 1, 1, 2, 23, 3, 9, 2, 3, 1, 4, 30, 36, 5, 2, 3, 2, 1, 36, 5, 1, 3, 4, 2, 3, 4, 4, 2, 4, 4, 1, 8, 28, 6, 6, 8, 6, 12, 7, 9, 23, 9, 21, 49, 25, 52]}, \"node\": {\"color\": [\"#797A7D\", \"#797A7D\", \"#797A7D\", \"#797A7D\", \"#797A7D\", \"#797A7D\", \"#797A7D\", \"#797A7D\", \"#797A7D\", \"#797A7D\", \"#F37021\", \"#7ABBE3\", \"#7ABBE3\", \"#7ABBE3\", \"#7ABBE3\", \"#7ABBE3\", \"#7ABBE3\", \"#7ABBE3\", \"#7ABBE3\", \"#7ABBE3\", \"#7ABBE3\", \"#7ABBE3\", \"#7ABBE3\", \"#7ABBE3\", \"#7ABBE3\", \"#7ABBE3\", \"#7ABBE3\", \"#7ABBE3\", \"#7ABBE3\", \"#7ABBE3\", \"#7ABBE3\", \"#7ABBE3\", \"#7ABBE3\", \"#7ABBE3\", \"#7ABBE3\", \"#7ABBE3\", \"#7ABBE3\", \"#7ABBE3\", \"#7ABBE3\", \"#7ABBE3\", \"#7ABBE3\", \"#7ABBE3\", \"#7ABBE3\", \"#7ABBE3\", \"#7ABBE3\", \"#7ABBE3\", \"#7ABBE3\", \"#7ABBE3\", \"#7ABBE3\", \"#7ABBE3\", \"#7ABBE3\", \"#7ABBE3\", \"#7ABBE3\", \"#7ABBE3\", \"#7ABBE3\", \"#7ABBE3\", \"#7ABBE3\", \"#7ABBE3\", \"#7ABBE3\", \"#7ABBE3\", \"#7ABBE3\", \"#7ABBE3\", \"#7ABBE3\", \"#7ABBE3\", \"#7ABBE3\", \"#7ABBE3\", \"#7ABBE3\", \"#7ABBE3\", \"#7ABBE3\", \"#7ABBE3\", \"#7ABBE3\", \"#7ABBE3\", \"#7ABBE3\", \"#7ABBE3\", \"#7ABBE3\", \"#7ABBE3\", \"#7ABBE3\", \"#7ABBE3\", \"#7ABBE3\", \"#7ABBE3\", \"#7ABBE3\", \"#7ABBE3\", \"#7ABBE3\", \"#7ABBE3\", \"#7ABBE3\", \"#7ABBE3\", \"#7ABBE3\", \"#7ABBE3\", \"#7ABBE3\"], \"label\": [\"10.1.100.20\", \"10.1.100.13\", \"10.1.100.17\", \"10.1.100.18\", \"10.1.100.12\", \"10.1.100.11\", \"10.1.100.19\", \"10.1.100.16\", \"10.1.100.14\", \"10.1.100.15\", \"Salesforce\", \"136.147.41.2\", \"136.147.42.172\", \"136.147.41.218\", \"151.101.1.145\", \"23.62.7.144\", \"151.101.65.145\", \"54.218.180.161\", \"136.147.103.70\", \"136.147.42.44\", \"136.147.102.245\", \"136.147.110.180\", \"136.147.43.90\", \"136.147.101.177\", \"136.147.57.44\", \"136.147.40.90\", \"136.147.111.62\", \"136.147.43.79\", \"96.43.146.24\", \"136.147.110.105\", \"136.147.101.245\", \"136.147.41.130\", \"136.147.108.189\", \"136.147.101.198\", \"136.147.56.1\", \"136.147.57.1\", \"136.147.110.189\", \"136.147.103.71\", \"136.147.40.218\", \"136.147.111.105\", \"136.147.42.240\", \"136.147.109.111\", \"136.147.101.199\", \"136.147.101.70\", \"136.147.42.112\", \"136.147.111.52\", \"136.147.100.111\", \"104.100.51.88\", \"136.147.103.49\", \"136.147.40.44\", \"136.147.40.130\", \"136.147.109.62\", \"136.147.40.172\", \"136.147.109.189\", \"136.147.100.199\", \"136.147.41.44\", \"136.147.101.71\", \"136.147.100.198\", \"136.147.108.190\", \"136.147.108.62\", \"136.147.59.44\", \"136.147.110.190\", \"136.147.58.44\", \"136.147.108.61\", \"104.107.29.190\", \"136.147.57.172\", \"96.17.234.70\", \"151.101.193.145\", \"23.219.17.28\", \"52.39.8.230\", \"136.147.111.114\", \"136.147.42.90\", \"136.147.100.71\", \"136.147.42.2\", \"136.147.110.52\", \"136.147.41.90\", \"54.187.216.46\", \"96.43.144.116\", \"136.147.42.218\", \"136.147.102.199\", \"23.62.7.169\", \"136.147.101.49\", \"172.230.172.82\", \"136.147.40.2\", \"136.147.109.105\", \"151.101.129.145\", \"136.147.40.79\", \"136.147.109.242\", \"136.147.59.112\"], \"line\": {\"color\": \"black\", \"width\": 0.5}, \"pad\": 10, \"thickness\": 20}, \"orientation\": \"h\", \"type\": \"sankey\"}],\n",
              "                        {\"font\": {\"color\": \"#7f7f7f\", \"family\": \"Arial\", \"size\": 18}, \"height\": 1700, \"template\": {\"data\": {\"bar\": [{\"error_x\": {\"color\": \"#2a3f5f\"}, \"error_y\": {\"color\": \"#2a3f5f\"}, \"marker\": {\"line\": {\"color\": \"#E5ECF6\", \"width\": 0.5}}, \"type\": \"bar\"}], \"barpolar\": [{\"marker\": {\"line\": {\"color\": \"#E5ECF6\", \"width\": 0.5}}, \"type\": \"barpolar\"}], \"carpet\": [{\"aaxis\": {\"endlinecolor\": \"#2a3f5f\", \"gridcolor\": \"white\", \"linecolor\": \"white\", \"minorgridcolor\": \"white\", \"startlinecolor\": \"#2a3f5f\"}, \"baxis\": {\"endlinecolor\": \"#2a3f5f\", \"gridcolor\": \"white\", \"linecolor\": \"white\", \"minorgridcolor\": \"white\", \"startlinecolor\": \"#2a3f5f\"}, \"type\": \"carpet\"}], \"choropleth\": [{\"colorbar\": {\"outlinewidth\": 0, \"ticks\": \"\"}, \"type\": \"choropleth\"}], \"contour\": [{\"colorbar\": {\"outlinewidth\": 0, \"ticks\": \"\"}, \"colorscale\": [[0.0, \"#0d0887\"], [0.1111111111111111, \"#46039f\"], [0.2222222222222222, \"#7201a8\"], [0.3333333333333333, \"#9c179e\"], [0.4444444444444444, \"#bd3786\"], [0.5555555555555556, \"#d8576b\"], [0.6666666666666666, \"#ed7953\"], [0.7777777777777778, \"#fb9f3a\"], [0.8888888888888888, \"#fdca26\"], [1.0, \"#f0f921\"]], \"type\": \"contour\"}], \"contourcarpet\": [{\"colorbar\": {\"outlinewidth\": 0, \"ticks\": \"\"}, \"type\": \"contourcarpet\"}], \"heatmap\": [{\"colorbar\": {\"outlinewidth\": 0, \"ticks\": \"\"}, \"colorscale\": [[0.0, \"#0d0887\"], [0.1111111111111111, \"#46039f\"], [0.2222222222222222, \"#7201a8\"], [0.3333333333333333, \"#9c179e\"], [0.4444444444444444, \"#bd3786\"], [0.5555555555555556, \"#d8576b\"], [0.6666666666666666, \"#ed7953\"], [0.7777777777777778, \"#fb9f3a\"], [0.8888888888888888, \"#fdca26\"], [1.0, \"#f0f921\"]], \"type\": \"heatmap\"}], \"heatmapgl\": [{\"colorbar\": {\"outlinewidth\": 0, \"ticks\": \"\"}, \"colorscale\": [[0.0, \"#0d0887\"], [0.1111111111111111, \"#46039f\"], [0.2222222222222222, \"#7201a8\"], [0.3333333333333333, \"#9c179e\"], [0.4444444444444444, \"#bd3786\"], [0.5555555555555556, \"#d8576b\"], [0.6666666666666666, \"#ed7953\"], [0.7777777777777778, \"#fb9f3a\"], [0.8888888888888888, \"#fdca26\"], [1.0, \"#f0f921\"]], \"type\": \"heatmapgl\"}], \"histogram\": [{\"marker\": {\"colorbar\": {\"outlinewidth\": 0, \"ticks\": \"\"}}, \"type\": \"histogram\"}], \"histogram2d\": [{\"colorbar\": {\"outlinewidth\": 0, \"ticks\": \"\"}, \"colorscale\": [[0.0, \"#0d0887\"], [0.1111111111111111, \"#46039f\"], [0.2222222222222222, \"#7201a8\"], [0.3333333333333333, \"#9c179e\"], [0.4444444444444444, \"#bd3786\"], [0.5555555555555556, \"#d8576b\"], [0.6666666666666666, \"#ed7953\"], [0.7777777777777778, \"#fb9f3a\"], [0.8888888888888888, \"#fdca26\"], [1.0, \"#f0f921\"]], \"type\": \"histogram2d\"}], \"histogram2dcontour\": [{\"colorbar\": {\"outlinewidth\": 0, \"ticks\": \"\"}, \"colorscale\": [[0.0, \"#0d0887\"], [0.1111111111111111, \"#46039f\"], [0.2222222222222222, \"#7201a8\"], [0.3333333333333333, \"#9c179e\"], [0.4444444444444444, \"#bd3786\"], [0.5555555555555556, \"#d8576b\"], [0.6666666666666666, \"#ed7953\"], [0.7777777777777778, \"#fb9f3a\"], [0.8888888888888888, \"#fdca26\"], [1.0, \"#f0f921\"]], \"type\": \"histogram2dcontour\"}], \"mesh3d\": [{\"colorbar\": {\"outlinewidth\": 0, \"ticks\": \"\"}, \"type\": \"mesh3d\"}], \"parcoords\": [{\"line\": {\"colorbar\": {\"outlinewidth\": 0, \"ticks\": \"\"}}, \"type\": \"parcoords\"}], \"pie\": [{\"automargin\": true, \"type\": \"pie\"}], \"scatter\": [{\"marker\": {\"colorbar\": {\"outlinewidth\": 0, \"ticks\": \"\"}}, \"type\": \"scatter\"}], \"scatter3d\": [{\"line\": {\"colorbar\": {\"outlinewidth\": 0, \"ticks\": \"\"}}, \"marker\": {\"colorbar\": {\"outlinewidth\": 0, \"ticks\": \"\"}}, \"type\": \"scatter3d\"}], \"scattercarpet\": [{\"marker\": {\"colorbar\": {\"outlinewidth\": 0, \"ticks\": \"\"}}, \"type\": \"scattercarpet\"}], \"scattergeo\": [{\"marker\": {\"colorbar\": {\"outlinewidth\": 0, \"ticks\": \"\"}}, \"type\": \"scattergeo\"}], \"scattergl\": [{\"marker\": {\"colorbar\": {\"outlinewidth\": 0, \"ticks\": \"\"}}, \"type\": \"scattergl\"}], \"scattermapbox\": [{\"marker\": {\"colorbar\": {\"outlinewidth\": 0, \"ticks\": \"\"}}, \"type\": \"scattermapbox\"}], \"scatterpolar\": [{\"marker\": {\"colorbar\": {\"outlinewidth\": 0, \"ticks\": \"\"}}, \"type\": \"scatterpolar\"}], \"scatterpolargl\": [{\"marker\": {\"colorbar\": {\"outlinewidth\": 0, \"ticks\": \"\"}}, \"type\": \"scatterpolargl\"}], \"scatterternary\": [{\"marker\": {\"colorbar\": {\"outlinewidth\": 0, \"ticks\": \"\"}}, \"type\": \"scatterternary\"}], \"surface\": [{\"colorbar\": {\"outlinewidth\": 0, \"ticks\": \"\"}, \"colorscale\": [[0.0, \"#0d0887\"], [0.1111111111111111, \"#46039f\"], [0.2222222222222222, \"#7201a8\"], [0.3333333333333333, \"#9c179e\"], [0.4444444444444444, \"#bd3786\"], [0.5555555555555556, \"#d8576b\"], [0.6666666666666666, \"#ed7953\"], [0.7777777777777778, \"#fb9f3a\"], [0.8888888888888888, \"#fdca26\"], [1.0, \"#f0f921\"]], \"type\": \"surface\"}], \"table\": [{\"cells\": {\"fill\": {\"color\": \"#EBF0F8\"}, \"line\": {\"color\": \"white\"}}, \"header\": {\"fill\": {\"color\": \"#C8D4E3\"}, \"line\": {\"color\": \"white\"}}, \"type\": \"table\"}]}, \"layout\": {\"annotationdefaults\": {\"arrowcolor\": \"#2a3f5f\", \"arrowhead\": 0, \"arrowwidth\": 1}, \"coloraxis\": {\"colorbar\": {\"outlinewidth\": 0, \"ticks\": \"\"}}, \"colorscale\": {\"diverging\": [[0, \"#8e0152\"], [0.1, \"#c51b7d\"], [0.2, \"#de77ae\"], [0.3, \"#f1b6da\"], [0.4, \"#fde0ef\"], [0.5, \"#f7f7f7\"], [0.6, \"#e6f5d0\"], [0.7, \"#b8e186\"], [0.8, \"#7fbc41\"], [0.9, \"#4d9221\"], [1, \"#276419\"]], \"sequential\": [[0.0, \"#0d0887\"], [0.1111111111111111, \"#46039f\"], [0.2222222222222222, \"#7201a8\"], [0.3333333333333333, \"#9c179e\"], [0.4444444444444444, \"#bd3786\"], [0.5555555555555556, \"#d8576b\"], [0.6666666666666666, \"#ed7953\"], [0.7777777777777778, \"#fb9f3a\"], [0.8888888888888888, \"#fdca26\"], [1.0, \"#f0f921\"]], \"sequentialminus\": [[0.0, \"#0d0887\"], [0.1111111111111111, \"#46039f\"], [0.2222222222222222, \"#7201a8\"], [0.3333333333333333, \"#9c179e\"], [0.4444444444444444, \"#bd3786\"], [0.5555555555555556, \"#d8576b\"], [0.6666666666666666, \"#ed7953\"], [0.7777777777777778, \"#fb9f3a\"], [0.8888888888888888, \"#fdca26\"], [1.0, \"#f0f921\"]]}, \"colorway\": [\"#636efa\", \"#EF553B\", \"#00cc96\", \"#ab63fa\", \"#FFA15A\", \"#19d3f3\", \"#FF6692\", \"#B6E880\", \"#FF97FF\", \"#FECB52\"], \"font\": {\"color\": \"#2a3f5f\"}, \"geo\": {\"bgcolor\": \"white\", \"lakecolor\": \"white\", \"landcolor\": \"#E5ECF6\", \"showlakes\": true, \"showland\": true, \"subunitcolor\": \"white\"}, \"hoverlabel\": {\"align\": \"left\"}, \"hovermode\": \"closest\", \"mapbox\": {\"style\": \"light\"}, \"paper_bgcolor\": \"white\", \"plot_bgcolor\": \"#E5ECF6\", \"polar\": {\"angularaxis\": {\"gridcolor\": \"white\", \"linecolor\": \"white\", \"ticks\": \"\"}, \"bgcolor\": \"#E5ECF6\", \"radialaxis\": {\"gridcolor\": \"white\", \"linecolor\": \"white\", \"ticks\": \"\"}}, \"scene\": {\"xaxis\": {\"backgroundcolor\": \"#E5ECF6\", \"gridcolor\": \"white\", \"gridwidth\": 2, \"linecolor\": \"white\", \"showbackground\": true, \"ticks\": \"\", \"zerolinecolor\": \"white\"}, \"yaxis\": {\"backgroundcolor\": \"#E5ECF6\", \"gridcolor\": \"white\", \"gridwidth\": 2, \"linecolor\": \"white\", \"showbackground\": true, \"ticks\": \"\", \"zerolinecolor\": \"white\"}, \"zaxis\": {\"backgroundcolor\": \"#E5ECF6\", \"gridcolor\": \"white\", \"gridwidth\": 2, \"linecolor\": \"white\", \"showbackground\": true, \"ticks\": \"\", \"zerolinecolor\": \"white\"}}, \"shapedefaults\": {\"line\": {\"color\": \"#2a3f5f\"}}, \"ternary\": {\"aaxis\": {\"gridcolor\": \"white\", \"linecolor\": \"white\", \"ticks\": \"\"}, \"baxis\": {\"gridcolor\": \"white\", \"linecolor\": \"white\", \"ticks\": \"\"}, \"bgcolor\": \"#E5ECF6\", \"caxis\": {\"gridcolor\": \"white\", \"linecolor\": \"white\", \"ticks\": \"\"}}, \"title\": {\"x\": 0.05}, \"xaxis\": {\"automargin\": true, \"gridcolor\": \"white\", \"linecolor\": \"white\", \"ticks\": \"\", \"title\": {\"standoff\": 15}, \"zerolinecolor\": \"white\", \"zerolinewidth\": 2}, \"yaxis\": {\"automargin\": true, \"gridcolor\": \"white\", \"linecolor\": \"white\", \"ticks\": \"\", \"title\": {\"standoff\": 15}, \"zerolinecolor\": \"white\", \"zerolinewidth\": 2}}}, \"title\": {\"text\": \"Flow relations for site Branch1\"}, \"width\": 1500},\n",
              "                        {\"responsive\": true}\n",
              "                    ).then(function(){\n",
              "                            \n",
              "var gd = document.getElementById('d6a63c1c-63c3-43d0-ad7c-d556c11951bb');\n",
              "var x = new MutationObserver(function (mutations, observer) {{\n",
              "        var display = window.getComputedStyle(gd).display;\n",
              "        if (!display || display === 'none') {{\n",
              "            console.log([gd, 'removed!']);\n",
              "            Plotly.purge(gd);\n",
              "            observer.disconnect();\n",
              "        }}\n",
              "}});\n",
              "\n",
              "// Listen for the removal of the full notebook cells\n",
              "var notebookContainer = gd.closest('#notebook-container');\n",
              "if (notebookContainer) {{\n",
              "    x.observe(notebookContainer, {childList: true});\n",
              "}}\n",
              "\n",
              "// Listen for the clearing of the current output cell\n",
              "var outputEl = gd.closest('.output');\n",
              "if (outputEl) {{\n",
              "    x.observe(outputEl, {childList: true});\n",
              "}}\n",
              "\n",
              "                        })\n",
              "                };\n",
              "                \n",
              "            </script>\n",
              "        </div>\n",
              "</body>\n",
              "</html>"
            ]
          },
          "metadata": {
            "tags": []
          }
        }
      ]
    },
    {
      "cell_type": "code",
      "metadata": {
        "id": "UeiAshHMbsoD",
        "colab_type": "code",
        "colab": {}
      },
      "source": [
        "# debug print dataframe\n",
        "display(df[0:10])"
      ],
      "execution_count": 0,
      "outputs": []
    },
    {
      "cell_type": "code",
      "metadata": {
        "id": "EJOB3WAHcYYr",
        "colab_type": "code",
        "colab": {}
      },
      "source": [
        "# reset apps\n",
        "apps_list =[]"
      ],
      "execution_count": 0,
      "outputs": []
    }
  ]
}